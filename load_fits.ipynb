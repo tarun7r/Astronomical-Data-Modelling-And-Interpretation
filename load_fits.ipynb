{
 "cells": [
  {
   "cell_type": "code",
   "execution_count": 1,
   "id": "clean-difficulty",
   "metadata": {},
   "outputs": [],
   "source": [
    "from statistics import mean\n",
    "import numpy as np\n",
    "import matplotlib.pyplot as plt\n",
    "from astropy.io import fits"
   ]
  },
  {
   "cell_type": "code",
   "execution_count": null,
   "id": "synthetic-advisory",
   "metadata": {},
   "outputs": [],
   "source": [
    "def load_fits(file):\n",
    "    data = fits.open(file)[0].data\n",
    "    return np.unravel_index(np.argmax(data, axis=None), data.shape)\n",
    "\n",
    "\n",
    "bright = load_fits('data3/image1.fits')\n",
    "print(bright)\n",
    "\n",
    "for fits_file in os.listdir('load_fits'): \n",
    "    hdu_list = fits.open('load_fits/' + fits_file)\n",
    "    hdu_data = hdu_list[0].data\n",
    "\n",
    "    plt.imshow(hdu_data.T, cmap=plt.cm.viridis)\n",
    "    plt.colorbar()\n",
    "    plt.show()"
   ]
  }
 ],
 "metadata": {
  "kernelspec": {
   "display_name": "Python 3",
   "language": "python",
   "name": "python3"
  },
  "language_info": {
   "codemirror_mode": {
    "name": "ipython",
    "version": 3
   },
   "file_extension": ".py",
   "mimetype": "text/x-python",
   "name": "python",
   "nbconvert_exporter": "python",
   "pygments_lexer": "ipython3",
   "version": "3.9.2"
  }
 },
 "nbformat": 4,
 "nbformat_minor": 5
}
